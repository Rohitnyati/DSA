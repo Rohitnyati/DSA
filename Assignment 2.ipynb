{
 "cells": [
  {
   "cell_type": "code",
   "execution_count": 75,
   "id": "ddf4a748",
   "metadata": {},
   "outputs": [],
   "source": [
    "phone_numbers = {\n",
    "  'Aakash' : '9489484949',\n",
    "  'Hemanth' : '9595949494',\n",
    "  'Siddhant' : '9231325312',\n",
    "    'rohit': '3141234233',\n",
    "    'roshan':'31245234654'\n",
    "}"
   ]
  },
  {
   "cell_type": "code",
   "execution_count": 119,
   "id": "5c9e987a",
   "metadata": {},
   "outputs": [],
   "source": [
    "class HashTable():\n",
    "    def __init__(self):\n",
    "        self.phone_numbers={}\n",
    "    def insert(self,name,mobile_no):\n",
    "        self.phone_numbers.update({name:mobile_no})\n",
    "    def find(self,name):\n",
    "        for name in self.phone_numbers:\n",
    "            #if name==self.phone_numbers.keys():\n",
    "            return self.phone_numbers[name]\n",
    "    def update(self,name,mobile_no):\n",
    "        target = self.find(name)\n",
    "        target.name, target.mobile_no = user.name, user.mobile_no\n",
    "    def list_all(self):\n",
    "        return self.phone_numbers"
   ]
  },
  {
   "cell_type": "code",
   "execution_count": 120,
   "id": "6674e74b",
   "metadata": {},
   "outputs": [],
   "source": [
    "phone_numbers.update({'ronak':1432412})"
   ]
  },
  {
   "cell_type": "code",
   "execution_count": 121,
   "id": "669bfedd",
   "metadata": {},
   "outputs": [
    {
     "data": {
      "text/plain": [
       "'4123412'"
      ]
     },
     "execution_count": 121,
     "metadata": {},
     "output_type": "execute_result"
    }
   ],
   "source": [
    "phone_numbers['rohit']"
   ]
  },
  {
   "cell_type": "code",
   "execution_count": 122,
   "id": "3bcf2a49",
   "metadata": {},
   "outputs": [
    {
     "name": "stdout",
     "output_type": "stream",
     "text": [
      "{}\n"
     ]
    }
   ],
   "source": [
    "d1=HashTable()\n",
    "print(d1.list_all())"
   ]
  },
  {
   "cell_type": "code",
   "execution_count": 123,
   "id": "1fa29ddc",
   "metadata": {},
   "outputs": [],
   "source": [
    "database=HashTable()"
   ]
  },
  {
   "cell_type": "code",
   "execution_count": 124,
   "id": "f40bc365",
   "metadata": {},
   "outputs": [],
   "source": [
    "database.insert('rohit','4123412')\n",
    "database.insert('hemanth','354533')\n",
    "database.insert('aakash','5677686')\n",
    "database.insert('siddhant','45645675')"
   ]
  },
  {
   "cell_type": "code",
   "execution_count": 125,
   "id": "665e4284",
   "metadata": {},
   "outputs": [
    {
     "data": {
      "text/plain": [
       "{'rohit': '4123412',\n",
       " 'hemanth': '354533',\n",
       " 'aakash': '5677686',\n",
       " 'siddhant': '45645675'}"
      ]
     },
     "execution_count": 125,
     "metadata": {},
     "output_type": "execute_result"
    }
   ],
   "source": [
    "database.list_all()"
   ]
  },
  {
   "cell_type": "code",
   "execution_count": 127,
   "id": "5ca31958",
   "metadata": {},
   "outputs": [
    {
     "data": {
      "text/plain": [
       "'4123412'"
      ]
     },
     "execution_count": 127,
     "metadata": {},
     "output_type": "execute_result"
    }
   ],
   "source": [
    "user = database.find('rohit')\n",
    "user"
   ]
  },
  {
   "cell_type": "code",
   "execution_count": null,
   "id": "bff34eb8",
   "metadata": {},
   "outputs": [],
   "source": []
  },
  {
   "cell_type": "code",
   "execution_count": null,
   "id": "09935052",
   "metadata": {},
   "outputs": [],
   "source": []
  }
 ],
 "metadata": {
  "kernelspec": {
   "display_name": "Python 3",
   "language": "python",
   "name": "python3"
  },
  "language_info": {
   "codemirror_mode": {
    "name": "ipython",
    "version": 3
   },
   "file_extension": ".py",
   "mimetype": "text/x-python",
   "name": "python",
   "nbconvert_exporter": "python",
   "pygments_lexer": "ipython3",
   "version": "3.8.8"
  }
 },
 "nbformat": 4,
 "nbformat_minor": 5
}
