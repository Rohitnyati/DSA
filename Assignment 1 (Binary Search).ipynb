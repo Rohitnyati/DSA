{
 "cells": [
  {
   "cell_type": "markdown",
   "id": "047a03e6",
   "metadata": {},
   "source": [
    "# QUESTION 1: Alice has some cards with numbers written on them.\n",
    "    She arranges the cards in decreasing order, and lays them out face down in a sequence on a table.\n",
    "    She challenges Bob to pick out the card containing a given number by turning over as few cards as possible.\n",
    "    Write a function to help Bob locate the card."
   ]
  },
  {
   "cell_type": "code",
   "execution_count": 1,
   "id": "85461f6b",
   "metadata": {},
   "outputs": [],
   "source": [
    "def locate_cards(cards,query):\n",
    "    pass"
   ]
  },
  {
   "cell_type": "raw",
   "id": "4219f226",
   "metadata": {},
   "source": [
    "cards=[13,11,10,7,4,3,1,0]\n",
    "query=7\n",
    "output=3"
   ]
  },
  {
   "cell_type": "code",
   "execution_count": 4,
   "id": "eb2a90a5",
   "metadata": {},
   "outputs": [],
   "source": [
    "def locate_cards(cards,query):\n",
    "    position=0\n",
    "    while True:\n",
    "        if cards[position]==query:\n",
    "            return position\n",
    "        position +=1\n",
    "    if position==len(cards):\n",
    "        return -1\n",
    "        "
   ]
  },
  {
   "cell_type": "code",
   "execution_count": 7,
   "id": "65de1e86",
   "metadata": {},
   "outputs": [
    {
     "data": {
      "text/plain": [
       "3"
      ]
     },
     "execution_count": 7,
     "metadata": {},
     "output_type": "execute_result"
    }
   ],
   "source": [
    "t1=locate_cards(test['input']['cards'],test['input']['query'])\n",
    "t1"
   ]
  },
  {
   "cell_type": "code",
   "execution_count": 6,
   "id": "361870f3",
   "metadata": {},
   "outputs": [],
   "source": [
    "test = {\n",
    "    'input': { \n",
    "        'cards': [13, 11, 10, 7, 4, 3, 1, 0], \n",
    "        'query': 7\n",
    "    },\n",
    "    'output': 3\n",
    "}"
   ]
  },
  {
   "cell_type": "code",
   "execution_count": 2,
   "id": "76ed875d",
   "metadata": {},
   "outputs": [
    {
     "data": {
      "text/plain": [
       "{'input': {'cards': [13, 11, 10, 7, 4, 3, 1, 0], 'query': 7}, 'output': 3}"
      ]
     },
     "execution_count": 2,
     "metadata": {},
     "output_type": "execute_result"
    }
   ],
   "source": [
    "test"
   ]
  },
  {
   "cell_type": "code",
   "execution_count": 6,
   "id": "310e2cd7",
   "metadata": {},
   "outputs": [],
   "source": [
    "cards = [13, 11, 10, 7, 4, 3, 1, 0]\n",
    "query = 7\n",
    "output = 3"
   ]
  },
  {
   "cell_type": "code",
   "execution_count": 3,
   "id": "52e63b5b",
   "metadata": {},
   "outputs": [],
   "source": [
    "def locate_card(cards, query):\n",
    "    # Create a variable position with the value 0\n",
    "    position = 0\n",
    "    \n",
    "    # Set up a loop for repetition\n",
    "    while True:\n",
    "        \n",
    "        # Check if element at the current position matche the query\n",
    "        if cards[position] == query:\n",
    "            \n",
    "            # Answer found! Return and exit..\n",
    "            return position\n",
    "        \n",
    "        # Increment the position\n",
    "        position += 1\n",
    "        \n",
    "        # Check if we have reached the end of the array\n",
    "        if position == len(cards):\n",
    "            \n",
    "            # Number not found, return -1\n",
    "            return -1"
   ]
  },
  {
   "cell_type": "code",
   "execution_count": 4,
   "id": "799237a7",
   "metadata": {},
   "outputs": [
    {
     "data": {
      "text/plain": [
       "3"
      ]
     },
     "execution_count": 4,
     "metadata": {},
     "output_type": "execute_result"
    }
   ],
   "source": [
    "result = locate_card(test['input']['cards'], test['input']['query'])\n",
    "result"
   ]
  },
  {
   "cell_type": "code",
   "execution_count": 7,
   "id": "ca153909",
   "metadata": {},
   "outputs": [
    {
     "data": {
      "text/plain": [
       "True"
      ]
     },
     "execution_count": 7,
     "metadata": {},
     "output_type": "execute_result"
    }
   ],
   "source": [
    "result == output"
   ]
  },
  {
   "cell_type": "code",
   "execution_count": 10,
   "id": "99968f9c",
   "metadata": {},
   "outputs": [],
   "source": [
    "test2={\n",
    "    'input':{\n",
    "        'cards':[4, 2, 1, -1],'query':4},\n",
    "    'output':0}"
   ]
  },
  {
   "cell_type": "code",
   "execution_count": 11,
   "id": "058503ab",
   "metadata": {},
   "outputs": [
    {
     "data": {
      "text/plain": [
       "0"
      ]
     },
     "execution_count": 11,
     "metadata": {},
     "output_type": "execute_result"
    }
   ],
   "source": [
    "t2=locate_cards(test2['input']['cards'],test2['input']['query'])\n",
    "t2"
   ]
  },
  {
   "cell_type": "code",
   "execution_count": 12,
   "id": "0b3b2f0f",
   "metadata": {},
   "outputs": [
    {
     "data": {
      "text/plain": [
       "True"
      ]
     },
     "execution_count": 12,
     "metadata": {},
     "output_type": "execute_result"
    }
   ],
   "source": [
    "t2==test2['output']"
   ]
  },
  {
   "cell_type": "code",
   "execution_count": 13,
   "id": "e5fad5a0",
   "metadata": {},
   "outputs": [],
   "source": [
    "def locate_cards(cards,query):\n",
    "    position=0\n",
    "    while True:\n",
    "        if cards['position']==query:\n",
    "            return position\n",
    "        position+=1\n",
    "    if position==len(cards):\n",
    "        return -1"
   ]
  },
  {
   "cell_type": "code",
   "execution_count": null,
   "id": "c7de69e9",
   "metadata": {},
   "outputs": [],
   "source": [
    "def locate_card_linear(cards, query):\n",
    "    position = 0\n",
    "    while position < len(cards):\n",
    "        if cards[position] == query:\n",
    "            return position\n",
    "        position += 1\n",
    "    return -1"
   ]
  },
  {
   "cell_type": "markdown",
   "id": "6155a556",
   "metadata": {},
   "source": [
    "# Assignment 1 "
   ]
  },
  {
   "cell_type": "code",
   "execution_count": 1,
   "id": "e5188be1",
   "metadata": {},
   "outputs": [],
   "source": [
    "test={'input':{'nums':[7,8,9,0,1,2,3]},\n",
    "'rotation':3}"
   ]
  },
  {
   "cell_type": "code",
   "execution_count": 2,
   "id": "51b9451a",
   "metadata": {},
   "outputs": [],
   "source": [
    "def countRotations(arr):\n",
    "    n=len(arr)\n",
    " \n",
    "    # We basically find index\n",
    "    # of minimum element\n",
    "    min = arr[0]\n",
    "    min_index = 0\n",
    "    for i in range(0, n):\n",
    "     \n",
    "        if (min > arr[i]):\n",
    "         \n",
    "            min = arr[i]\n",
    "            min_index = i\n",
    "         \n",
    "    return min_index;"
   ]
  },
  {
   "cell_type": "code",
   "execution_count": 3,
   "id": "fe4a5cf0",
   "metadata": {},
   "outputs": [
    {
     "data": {
      "text/plain": [
       "3"
      ]
     },
     "execution_count": 3,
     "metadata": {},
     "output_type": "execute_result"
    }
   ],
   "source": [
    "t2=countRotations(test['input']['nums'])\n",
    "t2"
   ]
  }
 ],
 "metadata": {
  "kernelspec": {
   "display_name": "Python 3",
   "language": "python",
   "name": "python3"
  },
  "language_info": {
   "codemirror_mode": {
    "name": "ipython",
    "version": 3
   },
   "file_extension": ".py",
   "mimetype": "text/x-python",
   "name": "python",
   "nbconvert_exporter": "python",
   "pygments_lexer": "ipython3",
   "version": "3.8.8"
  }
 },
 "nbformat": 4,
 "nbformat_minor": 5
}
